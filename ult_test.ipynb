{
 "cells": [
  {
   "cell_type": "code",
   "execution_count": 1,
   "metadata": {},
   "outputs": [],
   "source": [
    "import torch\n",
    "from torch.utils.cpp_extension import load\n",
    "\n",
    "if torch.cuda.is_available():\n",
    "    device = torch.device(\"cuda\")"
   ]
  },
  {
   "cell_type": "code",
   "execution_count": 2,
   "metadata": {},
   "outputs": [
    {
     "data": {
      "text/plain": [
       "<function ultMul.PyCapsule.ultMul>"
      ]
     },
     "execution_count": 2,
     "metadata": {},
     "output_type": "execute_result"
    }
   ],
   "source": [
    "ultMul = load(name='ultMul', sources=['ultMul_cuda_new.cpp', 'ultMul_cuda_kernel_new.cu'])\n",
    "\n",
    "import ultmul as um\n",
    "um.ultmul"
   ]
  },
  {
   "cell_type": "code",
   "execution_count": 3,
   "metadata": {},
   "outputs": [
    {
     "name": "stdout",
     "output_type": "stream",
     "text": [
      "torch.Size([10001, 10001])\n"
     ]
    },
    {
     "data": {
      "text/plain": [
       "tensor([[0.0000, 3.8651, 3.7960,  ..., 5.0696, 4.0650, 3.8771],\n",
       "        [3.8651, 0.0000, 3.6884,  ..., 3.6742, 3.8784, 3.2865],\n",
       "        [3.7960, 3.6884, 0.0000,  ..., 5.0290, 3.1813, 2.8613],\n",
       "        ...,\n",
       "        [5.0696, 3.6742, 5.0290,  ..., 0.0000, 4.4713, 5.3355],\n",
       "        [4.0650, 3.8784, 3.1813,  ..., 4.4713, 0.0000, 3.6948],\n",
       "        [3.8771, 3.2865, 2.8613,  ..., 5.3355, 3.6948, 0.0000]],\n",
       "       device='cuda:0')"
      ]
     },
     "execution_count": 3,
     "metadata": {},
     "output_type": "execute_result"
    }
   ],
   "source": [
    "import sklearn.metrics.pairwise as sk_dist\n",
    "torch.manual_seed(11000)\n",
    "test = torch.randn(10001,10).to(device).float() # number of samples have to smaller than sqrt(512) need to fix\n",
    "euc_dist = torch.from_numpy(sk_dist.euclidean_distances(test.to('cpu').numpy())).to(device).float()\n",
    "print(euc_dist.size())\n",
    "euc_dist"
   ]
  },
  {
   "cell_type": "code",
   "execution_count": 4,
   "metadata": {},
   "outputs": [
    {
     "name": "stdout",
     "output_type": "stream",
     "text": [
      "tensor([0.0000, 3.8651, 3.7960,  ..., 5.0696, 4.0650, 3.8771], device='cuda:0')\n",
      "tensor([3.8651, 0.0000, 3.6884,  ..., 3.6742, 3.8784, 3.2865], device='cuda:0')\n"
     ]
    }
   ],
   "source": [
    "print(euc_dist[0,:])\n",
    "print(euc_dist[1,:])"
   ]
  },
  {
   "cell_type": "code",
   "execution_count": 5,
   "metadata": {},
   "outputs": [
    {
     "data": {
      "text/plain": [
       "tensor([[0.0000, 2.3477, 2.2658,  ..., 2.7678, 2.4993, 2.4654],\n",
       "        [2.3477, 0.0000, 2.4644,  ..., 2.3378, 2.2386, 1.8229],\n",
       "        [2.2658, 2.4644, 0.0000,  ..., 2.9297, 2.0087, 2.1461],\n",
       "        ...,\n",
       "        [2.7678, 2.3378, 2.9297,  ..., 0.0000, 2.6144, 3.0921],\n",
       "        [2.4993, 2.2386, 2.0087,  ..., 2.6144, 0.0000, 2.1844],\n",
       "        [2.4654, 1.8229, 2.1461,  ..., 3.0921, 2.1844, 0.0000]],\n",
       "       device='cuda:0')"
      ]
     },
     "execution_count": 5,
     "metadata": {},
     "output_type": "execute_result"
    }
   ],
   "source": [
    "#euc_dist\n",
    "um.ultmul(euc_dist, euc_dist)"
   ]
  },
  {
   "cell_type": "code",
   "execution_count": 6,
   "metadata": {},
   "outputs": [
    {
     "data": {
      "text/plain": [
       "[tensor([43]), tensor([[0.0000, 1.5714, 1.5605,  ..., 1.6542, 1.4745, 1.5650],\n",
       "         [1.5714, 0.0000, 1.5714,  ..., 1.6542, 1.5714, 1.5714],\n",
       "         [1.5605, 1.5714, 0.0000,  ..., 1.6542, 1.5605, 1.5650],\n",
       "         ...,\n",
       "         [1.6542, 1.6542, 1.6542,  ..., 0.0000, 1.6542, 1.6542],\n",
       "         [1.4745, 1.5714, 1.5605,  ..., 1.6542, 0.0000, 1.5650],\n",
       "         [1.5650, 1.5714, 1.5650,  ..., 1.6542, 1.5650, 0.0000]],\n",
       "        device='cuda:0')]"
      ]
     },
     "execution_count": 6,
     "metadata": {},
     "output_type": "execute_result"
    }
   ],
   "source": [
    "um.clusterability(euc_dist)"
   ]
  },
  {
   "cell_type": "code",
   "execution_count": 8,
   "metadata": {},
   "outputs": [
    {
     "name": "stdout",
     "output_type": "stream",
     "text": [
      "43\n",
      "tensor([[0.0000, 1.5714, 1.5605,  ..., 1.6542, 1.4745, 1.5650],\n",
      "        [1.5714, 0.0000, 1.5714,  ..., 1.6542, 1.5714, 1.5714],\n",
      "        [1.5605, 1.5714, 0.0000,  ..., 1.6542, 1.5605, 1.5650],\n",
      "        ...,\n",
      "        [1.6542, 1.6542, 1.6542,  ..., 0.0000, 1.6542, 1.6542],\n",
      "        [1.4745, 1.5714, 1.5605,  ..., 1.6542, 0.0000, 1.5650],\n",
      "        [1.5650, 1.5714, 1.5650,  ..., 1.6542, 1.5650, 0.0000]],\n",
      "       device='cuda:0')\n"
     ]
    },
    {
     "data": {
      "text/plain": [
       "tensor([[0.0000, 1.5714, 1.5605,  ..., 1.6542, 1.4745, 1.5650],\n",
       "        [1.5714, 0.0000, 1.5714,  ..., 1.6542, 1.5714, 1.5714],\n",
       "        [1.5605, 1.5714, 0.0000,  ..., 1.6542, 1.5605, 1.5650],\n",
       "        ...,\n",
       "        [1.6542, 1.6542, 1.6542,  ..., 0.0000, 1.6542, 1.6542],\n",
       "        [1.4745, 1.5714, 1.5605,  ..., 1.6542, 0.0000, 1.5650],\n",
       "        [1.5650, 1.5714, 1.5650,  ..., 1.6542, 1.5650, 0.0000]],\n",
       "       device='cuda:0')"
      ]
     },
     "execution_count": 8,
     "metadata": {},
     "output_type": "execute_result"
    }
   ],
   "source": [
    "rlt_dist_o = euc_dist.clone()#torch.empty(euc_dist.size())\n",
    "rlt_dist_n = um.ultmul(rlt_dist_o, euc_dist)\n",
    "i = 1\n",
    "#print(rlt_dist_n)\n",
    "#print(rlt_dist_o)\n",
    "while not torch.eq(rlt_dist_o, rlt_dist_n).all().item():\n",
    "    rlt_dist_o = rlt_dist_n #result of previous multiplication\n",
    "    rlt_dist_n = um.ultmul(rlt_dist_o, euc_dist) # new result\n",
    "    i = i+1\n",
    "print(i)\n",
    "print(rlt_dist_n)\n",
    "\n",
    "um.ultmul(rlt_dist_n, euc_dist)"
   ]
  },
  {
   "cell_type": "code",
   "execution_count": null,
   "metadata": {},
   "outputs": [],
   "source": [
    "torch.matmul(euc_dist, euc_dist)"
   ]
  }
 ],
 "metadata": {
  "kernelspec": {
   "display_name": "Environment (conda_pytorch_p36)",
   "language": "python",
   "name": "conda_pytorch_p36"
  },
  "language_info": {
   "codemirror_mode": {
    "name": "ipython",
    "version": 3
   },
   "file_extension": ".py",
   "mimetype": "text/x-python",
   "name": "python",
   "nbconvert_exporter": "python",
   "pygments_lexer": "ipython3",
   "version": "3.6.5"
  }
 },
 "nbformat": 4,
 "nbformat_minor": 2
}