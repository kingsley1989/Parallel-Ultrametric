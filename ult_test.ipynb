{
 "cells": [
  {
   "cell_type": "code",
   "execution_count": 1,
   "metadata": {},
   "outputs": [],
   "source": [
    "import torch\n",
    "from torch.utils.cpp_extension import load\n",
    "\n",
    "if torch.cuda.is_available():\n",
    "    device = torch.device(\"cuda\")"
   ]
  },
  {
   "cell_type": "code",
   "execution_count": 2,
   "metadata": {},
   "outputs": [
    {
     "data": {
      "text/plain": [
       "<function ultmul.PyCapsule.ultmul>"
      ]
     },
     "execution_count": 2,
     "metadata": {},
     "output_type": "execute_result"
    }
   ],
   "source": [
    "ultmul = load(name='ultmul', sources=['ultMul_cuda.cpp', 'ultMul_cuda_kernel.cu'])\n",
    "\n",
    "import ultmul as um\n",
    "um.ultmul"
   ]
  },
  {
   "cell_type": "code",
   "execution_count": 3,
   "metadata": {},
   "outputs": [
    {
     "name": "stdout",
     "output_type": "stream",
     "text": [
      "torch.Size([10001, 10001])\n"
     ]
    },
    {
     "data": {
      "text/plain": [
       "tensor([[0.0000, 3.8651, 3.7960,  ..., 5.0696, 4.0650, 3.8771],\n",
       "        [3.8651, 0.0000, 3.6884,  ..., 3.6742, 3.8784, 3.2865],\n",
       "        [3.7960, 3.6884, 0.0000,  ..., 5.0290, 3.1813, 2.8613],\n",
       "        ...,\n",
       "        [5.0696, 3.6742, 5.0290,  ..., 0.0000, 4.4713, 5.3355],\n",
       "        [4.0650, 3.8784, 3.1813,  ..., 4.4713, 0.0000, 3.6948],\n",
       "        [3.8771, 3.2865, 2.8613,  ..., 5.3355, 3.6948, 0.0000]],\n",
       "       device='cuda:0')"
      ]
     },
     "execution_count": 3,
     "metadata": {},
     "output_type": "execute_result"
    }
   ],
   "source": [
    "import sklearn.metrics.pairwise as sk_dist\n",
    "torch.manual_seed(11000)\n",
    "test = torch.randn(10001,10).float() # number of samples have to smaller than sqrt(512) need to fix\n",
    "euc_dist = torch.from_numpy(sk_dist.euclidean_distances(test.numpy())).to(device).float()\n",
    "print(euc_dist.size())\n",
    "euc_dist"
   ]
  },
  {
   "cell_type": "code",
   "execution_count": 4,
   "metadata": {},
   "outputs": [
    {
     "name": "stdout",
     "output_type": "stream",
     "text": [
      "1.149624000000001\n"
     ]
    }
   ],
   "source": [
    "#euc_dist\n",
    "import time\n",
    "torch.cuda.synchronize()   \n",
    "start = time.clock()\n",
    "u_test = um.ultmul(euc_dist, euc_dist)\n",
    "torch.cuda.synchronize() \n",
    "end = time.clock()\n",
    "tu = end-start\n",
    "print(tu)"
   ]
  },
  {
   "cell_type": "code",
   "execution_count": 6,
   "metadata": {},
   "outputs": [
    {
     "name": "stdout",
     "output_type": "stream",
     "text": [
      "tensor([0.0042])\n",
      "49.772478\n"
     ]
    }
   ],
   "source": [
    "start = time.clock()\n",
    "uclb = um.clusterability(euc_dist)\n",
    "end = time.clock()\n",
    "tc = end-start\n",
    "print(uclb[0])\n",
    "print(tc)"
   ]
  },
  {
   "cell_type": "code",
   "execution_count": 7,
   "metadata": {},
   "outputs": [
    {
     "name": "stdout",
     "output_type": "stream",
     "text": [
      "1.232604000000002\n",
      "tensor([1., 1., 1.,  ..., 1., 1., 1.], device='cuda:0')\n"
     ]
    }
   ],
   "source": [
    "start = time.clock()\n",
    "uclust_label = um.single_hclust(uclb[1], 8)\n",
    "end = time.clock()\n",
    "print(end-start)\n",
    "print(uclust_label)"
   ]
  },
  {
   "cell_type": "code",
   "execution_count": 8,
   "metadata": {},
   "outputs": [
    {
     "name": "stdout",
     "output_type": "stream",
     "text": [
      "2.205869\n",
      "[0 0 0 ... 0 0 0]\n"
     ]
    }
   ],
   "source": [
    "from sklearn.cluster import AgglomerativeClustering\n",
    "import numpy as np\n",
    "X = euc_dist.to('cpu').numpy()\n",
    "start = time.clock()\n",
    "clustering = AgglomerativeClustering(n_clusters = 8, affinity = 'precomputed', linkage='single').fit(X)\n",
    "end = time.clock()\n",
    "print(end-start)\n",
    "print(clustering.labels_)"
   ]
  },
  {
   "cell_type": "code",
   "execution_count": 9,
   "metadata": {},
   "outputs": [
    {
     "data": {
      "text/plain": [
       "1.0"
      ]
     },
     "execution_count": 9,
     "metadata": {},
     "output_type": "execute_result"
    }
   ],
   "source": [
    "from sklearn.metrics.cluster import normalized_mutual_info_score\n",
    "normalized_mutual_info_score(clustering.labels_, uclust_label.to('cpu').numpy())"
   ]
  },
  {
   "cell_type": "code",
   "execution_count": 10,
   "metadata": {},
   "outputs": [
    {
     "name": "stdout",
     "output_type": "stream",
     "text": [
      "0.42320799999999537\n"
     ]
    }
   ],
   "source": [
    "torch.cuda.synchronize()  \n",
    "start = time.clock()\n",
    "m_test = torch.matmul(euc_dist, euc_dist)\n",
    "torch.cuda.synchronize()\n",
    "end = time.clock()\n",
    "tm = end-start\n",
    "print(tm)"
   ]
  },
  {
   "cell_type": "code",
   "execution_count": null,
   "metadata": {},
   "outputs": [],
   "source": []
  }
 ],
 "metadata": {
  "kernelspec": {
   "display_name": "Environment (conda_pytorch_p36)",
   "language": "python",
   "name": "conda_pytorch_p36"
  },
  "language_info": {
   "codemirror_mode": {
    "name": "ipython",
    "version": 3
   },
   "file_extension": ".py",
   "mimetype": "text/x-python",
   "name": "python",
   "nbconvert_exporter": "python",
   "pygments_lexer": "ipython3",
   "version": "3.6.10"
  }
 },
 "nbformat": 4,
 "nbformat_minor": 2
}
