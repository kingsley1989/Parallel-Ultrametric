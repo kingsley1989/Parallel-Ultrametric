{
 "cells": [
  {
   "cell_type": "code",
   "execution_count": 1,
   "metadata": {},
   "outputs": [],
   "source": [
    "import torch\n",
    "from torch.utils.cpp_extension import load\n",
    "\n",
    "if torch.cuda.is_available():\n",
    "    device = torch.device(\"cuda\")"
   ]
  },
  {
   "cell_type": "code",
   "execution_count": 2,
   "metadata": {},
   "outputs": [
    {
     "data": {
      "text/plain": [
       "<function ultmul.PyCapsule.ultmul>"
      ]
     },
     "execution_count": 2,
     "metadata": {},
     "output_type": "execute_result"
    }
   ],
   "source": [
    "ultmul = load(name='ultmul', sources=['ultMul_cuda.cpp', 'ultMul_cuda_kernel.cu'])\n",
    "\n",
    "import ultmul as um\n",
    "um.ultmul"
   ]
  },
  {
   "cell_type": "code",
   "execution_count": 3,
   "metadata": {},
   "outputs": [
    {
     "name": "stdout",
     "output_type": "stream",
     "text": [
      "torch.Size([10001, 10001])\n"
     ]
    },
    {
     "data": {
      "text/plain": [
       "tensor([[0.0000, 3.8651, 3.7960,  ..., 5.0696, 4.0650, 3.8771],\n",
       "        [3.8651, 0.0000, 3.6884,  ..., 3.6742, 3.8784, 3.2865],\n",
       "        [3.7960, 3.6884, 0.0000,  ..., 5.0290, 3.1813, 2.8613],\n",
       "        ...,\n",
       "        [5.0696, 3.6742, 5.0290,  ..., 0.0000, 4.4713, 5.3355],\n",
       "        [4.0650, 3.8784, 3.1813,  ..., 4.4713, 0.0000, 3.6948],\n",
       "        [3.8771, 3.2865, 2.8613,  ..., 5.3355, 3.6948, 0.0000]],\n",
       "       device='cuda:0')"
      ]
     },
     "execution_count": 3,
     "metadata": {},
     "output_type": "execute_result"
    }
   ],
   "source": [
    "import sklearn.metrics.pairwise as sk_dist\n",
    "torch.manual_seed(11000)\n",
    "test = torch.randn(10001,10).to(device).float() # number of samples have to smaller than sqrt(512) need to fix\n",
    "euc_dist = torch.from_numpy(sk_dist.euclidean_distances(test.to('cpu').numpy())).to(device).float()\n",
    "print(euc_dist.size())\n",
    "euc_dist"
   ]
  },
  {
   "cell_type": "code",
   "execution_count": 4,
   "metadata": {},
   "outputs": [
    {
     "name": "stdout",
     "output_type": "stream",
     "text": [
      "1.166117999999999\n"
     ]
    }
   ],
   "source": [
    "#euc_dist\n",
    "import time\n",
    "torch.cuda.synchronize()   \n",
    "start = time.clock()\n",
    "u_test = um.ultmul(euc_dist, euc_dist)\n",
    "torch.cuda.synchronize() \n",
    "end = time.clock()\n",
    "tu = end-start\n",
    "print(tu)"
   ]
  },
  {
   "cell_type": "code",
   "execution_count": 5,
   "metadata": {},
   "outputs": [
    {
     "name": "stdout",
     "output_type": "stream",
     "text": [
      "50.750151\n"
     ]
    }
   ],
   "source": [
    "start = time.clock()\n",
    "um.clusterability(euc_dist)\n",
    "end = time.clock()\n",
    "tc = end-start\n",
    "print(tc)"
   ]
  },
  {
   "cell_type": "code",
   "execution_count": 6,
   "metadata": {},
   "outputs": [
    {
     "name": "stdout",
     "output_type": "stream",
     "text": [
      "0.4080289999999991\n"
     ]
    }
   ],
   "source": [
    "torch.cuda.synchronize()  \n",
    "start = time.clock()\n",
    "m_test = torch.matmul(euc_dist, euc_dist)\n",
    "torch.cuda.synchronize()\n",
    "end = time.clock()\n",
    "tm = end-start\n",
    "print(tm)"
   ]
  },
  {
   "cell_type": "code",
   "execution_count": 7,
   "metadata": {},
   "outputs": [
    {
     "name": "stdout",
     "output_type": "stream",
     "text": [
      "tensor([[   0, 6671, 6551,  ..., 7495, 5526, 6603],\n",
      "        [6671,    0, 6671,  ..., 7495, 6671, 6671],\n",
      "        [6551, 6671,    0,  ..., 7495, 6551, 6603],\n",
      "        ...,\n",
      "        [7495, 7495, 7495,  ...,    0, 7495, 7495],\n",
      "        [5526, 6671, 6551,  ..., 7495,    0, 6603],\n",
      "        [6603, 6671, 6603,  ..., 7495, 6603,    0]], device='cuda:0')\n"
     ]
    }
   ],
   "source": [
    "usort = um.single_hclust(euc_dist, 3)\n",
    "print(usort)"
   ]
  },
  {
   "cell_type": "code",
   "execution_count": 8,
   "metadata": {},
   "outputs": [
    {
     "name": "stdout",
     "output_type": "stream",
     "text": [
      "tensor(10.6978, device='cuda:0')\n"
     ]
    },
    {
     "data": {
      "text/plain": [
       "torch.Size([9995])"
      ]
     },
     "execution_count": 8,
     "metadata": {},
     "output_type": "execute_result"
    }
   ],
   "source": [
    "print(torch.max(euc_dist))\n",
    "usort.size()"
   ]
  },
  {
   "cell_type": "code",
   "execution_count": 17,
   "metadata": {},
   "outputs": [
    {
     "name": "stdout",
     "output_type": "stream",
     "text": [
      "[[0.        3.8650737 3.796011  ... 5.069626  4.0649548 3.8770833]\n",
      " [3.8650737 0.        3.688441  ... 3.6742144 3.8784318 3.286531 ]\n",
      " [3.796011  3.688441  0.        ... 5.0290346 3.181317  2.8613245]\n",
      " ...\n",
      " [5.069626  3.6742144 5.0290346 ... 0.        4.4713006 5.335459 ]\n",
      " [4.0649548 3.8784318 3.181317  ... 4.4713006 0.        3.6948118]\n",
      " [3.8770833 3.286531  2.8613245 ... 5.335459  3.6948118 0.       ]]\n"
     ]
    }
   ],
   "source": [
    "from sklearn.cluster import AgglomerativeClustering\n",
    "import numpy as np\n",
    "X = euc_dist.to('cpu').numpy()\n",
    "print(X)"
   ]
  },
  {
   "cell_type": "code",
   "execution_count": 18,
   "metadata": {},
   "outputs": [
    {
     "name": "stdout",
     "output_type": "stream",
     "text": [
      "[0 0 0 ... 0 0 0]\n"
     ]
    }
   ],
   "source": [
    "clustering = AgglomerativeClustering(affinity = 'precomputed', linkage='single').fit(X)\n",
    "print(clustering.labels_)"
   ]
  },
  {
   "cell_type": "code",
   "execution_count": 19,
   "metadata": {},
   "outputs": [
    {
     "name": "stdout",
     "output_type": "stream",
     "text": [
      "AgglomerativeClustering(affinity='precomputed', compute_full_tree='auto',\n",
      "                        connectivity=None, distance_threshold=None,\n",
      "                        linkage='single', memory=None, n_clusters=2)\n"
     ]
    }
   ],
   "source": [
    "print(clustering)"
   ]
  },
  {
   "cell_type": "code",
   "execution_count": null,
   "metadata": {},
   "outputs": [],
   "source": []
  }
 ],
 "metadata": {
  "kernelspec": {
   "display_name": "Environment (conda_pytorch_p36)",
   "language": "python",
   "name": "conda_pytorch_p36"
  },
  "language_info": {
   "codemirror_mode": {
    "name": "ipython",
    "version": 3
   },
   "file_extension": ".py",
   "mimetype": "text/x-python",
   "name": "python",
   "nbconvert_exporter": "python",
   "pygments_lexer": "ipython3",
   "version": "3.6.10"
  }
 },
 "nbformat": 4,
 "nbformat_minor": 2
}
